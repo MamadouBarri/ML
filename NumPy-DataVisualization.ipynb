{
  "nbformat": 4,
  "nbformat_minor": 0,
  "metadata": {
    "colab": {
      "name": "Lab-1.ipynb",
      "provenance": [],
      "collapsed_sections": [
        "2B7qsN1X118_",
        "lKjFMJwP_4AT",
        "S5uSdKsMMyE0",
        "P9ktlJpS30As",
        "texW-VHk30BN",
        "i8VuqiFj30Bd",
        "h8NcgJ8v30Bz",
        "cdp7oTYT30B-",
        "gJB4IBaZwpjO",
        "rkaj4RksCIT8",
        "edMrTIiNCdOx"
      ],
      "include_colab_link": true
    },
    "kernelspec": {
      "name": "python3",
      "display_name": "Python 3"
    }
  },
  "cells": [
    {
      "cell_type": "markdown",
      "metadata": {
        "id": "view-in-github",
        "colab_type": "text"
      },
      "source": [
        "<a href=\"https://colab.research.google.com/github/MamadouBarri/ML/blob/master/NumPy-DataVisualization.ipynb\" target=\"_parent\"><img src=\"https://colab.research.google.com/assets/colab-badge.svg\" alt=\"Open In Colab\"/></a>"
      ]
    },
    {
      "cell_type": "markdown",
      "metadata": {
        "id": "fTHck9JJ2UG6",
        "colab_type": "text"
      },
      "source": [
        "<center><h1> IFT-6758  Data Science  </h1></center>\n",
        "<center><h2> Fall - 2019 </h2></center> \n",
        "<center><h3> Lab - Week 3</h3></center> \n",
        "<center><h3> </h3></center> \n",
        "<center><h3> NumPy, SciPy and matplotlib</h3></center> \n",
        "\n"
      ]
    },
    {
      "cell_type": "markdown",
      "metadata": {
        "id": "dhNcWgxaBJuz",
        "colab_type": "text"
      },
      "source": [
        "##NUMPY"
      ]
    },
    {
      "cell_type": "markdown",
      "metadata": {
        "id": "2B7qsN1X118_",
        "colab_type": "text"
      },
      "source": [
        "### Installation\n",
        "On Google colab numpy is already installed"
      ]
    },
    {
      "cell_type": "code",
      "metadata": {
        "id": "uVx-mfQ66K3x",
        "colab_type": "code",
        "colab": {
          "base_uri": "https://localhost:8080/",
          "height": 35
        },
        "outputId": "41039fc7-d40a-47d4-ca9e-721dd9259fec"
      },
      "source": [
        "!pip install numpy"
      ],
      "execution_count": null,
      "outputs": [
        {
          "output_type": "stream",
          "text": [
            "Requirement already satisfied: numpy in /usr/local/lib/python3.6/dist-packages (1.18.5)\n"
          ],
          "name": "stdout"
        }
      ]
    },
    {
      "cell_type": "markdown",
      "metadata": {
        "id": "lKjFMJwP_4AT",
        "colab_type": "text"
      },
      "source": [
        "### Import"
      ]
    },
    {
      "cell_type": "markdown",
      "metadata": {
        "id": "73BnScqKzAuz",
        "colab_type": "text"
      },
      "source": [
        "The alias `np` is a convention used by the vast majority"
      ]
    },
    {
      "cell_type": "code",
      "metadata": {
        "id": "I_Riakur6LH4",
        "colab_type": "code",
        "colab": {}
      },
      "source": [
        "import numpy as np"
      ],
      "execution_count": 2,
      "outputs": []
    },
    {
      "cell_type": "markdown",
      "metadata": {
        "id": "S5uSdKsMMyE0",
        "colab_type": "text"
      },
      "source": [
        "### [1] Array Creation "
      ]
    },
    {
      "cell_type": "markdown",
      "metadata": {
        "id": "Ox3NLEvFozwd",
        "colab_type": "text"
      },
      "source": [
        "Array from list comprehension"
      ]
    },
    {
      "cell_type": "code",
      "metadata": {
        "id": "V1o8Cf3B6LSI",
        "colab_type": "code",
        "colab": {}
      },
      "source": [
        "my_list = [i for i in range(36)]\n",
        "# from list constructor\n",
        "np_array = np.array(my_list)"
      ],
      "execution_count": null,
      "outputs": []
    },
    {
      "cell_type": "code",
      "metadata": {
        "id": "Z2E7LVfW5mHr",
        "colab_type": "code",
        "colab": {
          "base_uri": "https://localhost:8080/",
          "height": 35
        },
        "outputId": "40cc1add-8758-4b3e-a120-f8377357775b"
      },
      "source": [
        "# n-dimensional array\n",
        "np_array.__class__"
      ],
      "execution_count": null,
      "outputs": [
        {
          "output_type": "execute_result",
          "data": {
            "text/plain": [
              "numpy.ndarray"
            ]
          },
          "metadata": {
            "tags": []
          },
          "execution_count": 7
        }
      ]
    },
    {
      "cell_type": "code",
      "metadata": {
        "id": "xNIHrKpb6Lbz",
        "colab_type": "code",
        "colab": {
          "base_uri": "https://localhost:8080/",
          "height": 35
        },
        "outputId": "f47a9d23-9b6e-4193-9471-f89b2a0fa3d9"
      },
      "source": [
        "# Specifies the dimension in each direction with a tuple\n",
        "np_array.shape"
      ],
      "execution_count": null,
      "outputs": [
        {
          "output_type": "execute_result",
          "data": {
            "text/plain": [
              "(36,)"
            ]
          },
          "metadata": {
            "tags": []
          },
          "execution_count": 8
        }
      ]
    },
    {
      "cell_type": "code",
      "metadata": {
        "id": "jpdq2jfL33er",
        "colab_type": "code",
        "colab": {
          "base_uri": "https://localhost:8080/",
          "height": 35
        },
        "outputId": "23eafd9e-3dfb-4b7d-ab8c-7c554446e972"
      },
      "source": [
        "# type of the homogenous array\n",
        "np_array.dtype"
      ],
      "execution_count": null,
      "outputs": [
        {
          "output_type": "execute_result",
          "data": {
            "text/plain": [
              "dtype('int64')"
            ]
          },
          "metadata": {
            "tags": []
          },
          "execution_count": 9
        }
      ]
    },
    {
      "cell_type": "code",
      "metadata": {
        "id": "OrejeCXHq88t",
        "colab_type": "code",
        "colab": {
          "base_uri": "https://localhost:8080/",
          "height": 35
        },
        "outputId": "47e3fb70-6d09-4d67-fcf3-f03e487d2cea"
      },
      "source": [
        "# length of one array element in bytes\n",
        "np_array.itemsize"
      ],
      "execution_count": null,
      "outputs": [
        {
          "output_type": "execute_result",
          "data": {
            "text/plain": [
              "8"
            ]
          },
          "metadata": {
            "tags": []
          },
          "execution_count": 10
        }
      ]
    },
    {
      "cell_type": "code",
      "metadata": {
        "id": "SHylOjlc4CFy",
        "colab_type": "code",
        "colab": {
          "base_uri": "https://localhost:8080/",
          "height": 69
        },
        "outputId": "28ec4f85-9e91-425d-a710-ef1fb2d7ced5"
      },
      "source": [
        "# __repr__\n",
        "np_array"
      ],
      "execution_count": null,
      "outputs": [
        {
          "output_type": "execute_result",
          "data": {
            "text/plain": [
              "array([ 0,  1,  2,  3,  4,  5,  6,  7,  8,  9, 10, 11, 12, 13, 14, 15, 16,\n",
              "       17, 18, 19, 20, 21, 22, 23, 24, 25, 26, 27, 28, 29, 30, 31, 32, 33,\n",
              "       34, 35])"
            ]
          },
          "metadata": {
            "tags": []
          },
          "execution_count": 11
        }
      ]
    },
    {
      "cell_type": "code",
      "metadata": {
        "id": "BPMwdTyPrbGp",
        "colab_type": "code",
        "colab": {
          "base_uri": "https://localhost:8080/",
          "height": 69
        },
        "outputId": "f9ad2b89-77b3-467f-cf7e-ff2bef6e1528"
      },
      "source": [
        "# convert the array to a different type\n",
        "np_array.astype(np.float)"
      ],
      "execution_count": null,
      "outputs": [
        {
          "output_type": "execute_result",
          "data": {
            "text/plain": [
              "array([ 0.,  1.,  2.,  3.,  4.,  5.,  6.,  7.,  8.,  9., 10., 11., 12.,\n",
              "       13., 14., 15., 16., 17., 18., 19., 20., 21., 22., 23., 24., 25.,\n",
              "       26., 27., 28., 29., 30., 31., 32., 33., 34., 35.])"
            ]
          },
          "metadata": {
            "tags": []
          },
          "execution_count": 12
        }
      ]
    },
    {
      "cell_type": "code",
      "metadata": {
        "id": "9z8QQJTgrKpe",
        "colab_type": "code",
        "colab": {
          "base_uri": "https://localhost:8080/",
          "height": 35
        },
        "outputId": "ad860112-4dc2-4497-d88b-ccd76ac3c3c7"
      },
      "source": [
        "# Create array from list and specify data type\n",
        "np.array([12,0,3,4,5,0,6,7,0],dtype=np.bool)"
      ],
      "execution_count": null,
      "outputs": [
        {
          "output_type": "execute_result",
          "data": {
            "text/plain": [
              "array([ True, False,  True,  True,  True, False,  True,  True, False])"
            ]
          },
          "metadata": {
            "tags": []
          },
          "execution_count": 13
        }
      ]
    },
    {
      "cell_type": "markdown",
      "metadata": {
        "id": "U0LLY4XfM9EZ",
        "colab_type": "text"
      },
      "source": [
        "Array from a list"
      ]
    },
    {
      "cell_type": "code",
      "metadata": {
        "id": "pp1pMsTk30AT",
        "colab_type": "code",
        "colab": {
          "base_uri": "https://localhost:8080/",
          "height": 35
        },
        "outputId": "0ebeb78d-7e97-4a1a-b582-79f010d7588d"
      },
      "source": [
        "np.array([1, 2, 3])"
      ],
      "execution_count": null,
      "outputs": [
        {
          "output_type": "execute_result",
          "data": {
            "text/plain": [
              "array([1, 2, 3])"
            ]
          },
          "metadata": {
            "tags": []
          },
          "execution_count": 14
        }
      ]
    },
    {
      "cell_type": "markdown",
      "metadata": {
        "id": "3Oq4-s_QNJxO",
        "colab_type": "text"
      },
      "source": [
        "Array of zeros"
      ]
    },
    {
      "cell_type": "code",
      "metadata": {
        "id": "WP_vRs3W30AW",
        "colab_type": "code",
        "colab": {
          "base_uri": "https://localhost:8080/",
          "height": 35
        },
        "outputId": "90b4caa7-38f4-4646-a015-d0c98ac9a61c"
      },
      "source": [
        "np.zeros(3)"
      ],
      "execution_count": null,
      "outputs": [
        {
          "output_type": "execute_result",
          "data": {
            "text/plain": [
              "array([0., 0., 0.])"
            ]
          },
          "metadata": {
            "tags": []
          },
          "execution_count": 15
        }
      ]
    },
    {
      "cell_type": "markdown",
      "metadata": {
        "id": "P2xs2zAXNQjv",
        "colab_type": "text"
      },
      "source": [
        "Array of ones"
      ]
    },
    {
      "cell_type": "code",
      "metadata": {
        "id": "EbbQvejn30AZ",
        "colab_type": "code",
        "colab": {
          "base_uri": "https://localhost:8080/",
          "height": 35
        },
        "outputId": "b4053b57-7dec-4872-8907-c28d32d2b71c"
      },
      "source": [
        "np.ones(3)"
      ],
      "execution_count": null,
      "outputs": [
        {
          "output_type": "execute_result",
          "data": {
            "text/plain": [
              "array([1., 1., 1.])"
            ]
          },
          "metadata": {
            "tags": []
          },
          "execution_count": 16
        }
      ]
    },
    {
      "cell_type": "markdown",
      "metadata": {
        "id": "s19MZEp-NWPn",
        "colab_type": "text"
      },
      "source": [
        "Array of 3 random integers between 1 and 10\n",
        "\n",
        "\n",
        "```\n",
        "randint(start,end,number_of_values) - number_of_values in the interval [start,end)\n",
        "```\n",
        "\n"
      ]
    },
    {
      "cell_type": "code",
      "metadata": {
        "id": "Eu6mv39-30Ab",
        "colab_type": "code",
        "colab": {
          "base_uri": "https://localhost:8080/",
          "height": 35
        },
        "outputId": "f3a21447-9a04-4115-a1c7-5ad1ed20dcdb"
      },
      "source": [
        "np.random.randint(1,10, 3)"
      ],
      "execution_count": null,
      "outputs": [
        {
          "output_type": "execute_result",
          "data": {
            "text/plain": [
              "array([1, 2, 4])"
            ]
          },
          "metadata": {
            "tags": []
          },
          "execution_count": 17
        }
      ]
    },
    {
      "cell_type": "markdown",
      "metadata": {
        "id": "MQKkksrLrspz",
        "colab_type": "text"
      },
      "source": [
        "Array from a range of integers"
      ]
    },
    {
      "cell_type": "code",
      "metadata": {
        "id": "iLaXy-9SrH1m",
        "colab_type": "code",
        "colab": {
          "base_uri": "https://localhost:8080/",
          "height": 52
        },
        "outputId": "f38c8b20-df5f-4d32-f0f4-9206b1dee327"
      },
      "source": [
        "np.arange(1, 100, 5)"
      ],
      "execution_count": null,
      "outputs": [
        {
          "output_type": "execute_result",
          "data": {
            "text/plain": [
              "array([ 1,  6, 11, 16, 21, 26, 31, 36, 41, 46, 51, 56, 61, 66, 71, 76, 81,\n",
              "       86, 91, 96])"
            ]
          },
          "metadata": {
            "tags": []
          },
          "execution_count": 18
        }
      ]
    },
    {
      "cell_type": "markdown",
      "metadata": {
        "id": "EEP0cFOcNrP2",
        "colab_type": "text"
      },
      "source": [
        "Array of linearly spaced elements"
      ]
    },
    {
      "cell_type": "code",
      "metadata": {
        "id": "ulOnYoU230Ad",
        "colab_type": "code",
        "colab": {
          "base_uri": "https://localhost:8080/",
          "height": 35
        },
        "outputId": "f8e5cdd4-fd94-4398-b1f1-9bea4f1c71ba"
      },
      "source": [
        "np.linspace(0, 10, 5 )"
      ],
      "execution_count": null,
      "outputs": [
        {
          "output_type": "execute_result",
          "data": {
            "text/plain": [
              "array([ 0. ,  2.5,  5. ,  7.5, 10. ])"
            ]
          },
          "metadata": {
            "tags": []
          },
          "execution_count": 19
        }
      ]
    },
    {
      "cell_type": "markdown",
      "metadata": {
        "id": "ltpGqa5JYIw3",
        "colab_type": "text"
      },
      "source": [
        "Simple 2D array"
      ]
    },
    {
      "cell_type": "code",
      "metadata": {
        "id": "uvtGjFTR30Af",
        "colab_type": "code",
        "colab": {
          "base_uri": "https://localhost:8080/",
          "height": 69
        },
        "outputId": "e8a2af34-4617-499e-c0cd-6a9ff0617a91"
      },
      "source": [
        "np.array([[1,2,3],\n",
        "         [4,5,6],\n",
        "         [7,8,9]])"
      ],
      "execution_count": null,
      "outputs": [
        {
          "output_type": "execute_result",
          "data": {
            "text/plain": [
              "array([[1, 2, 3],\n",
              "       [4, 5, 6],\n",
              "       [7, 8, 9]])"
            ]
          },
          "metadata": {
            "tags": []
          },
          "execution_count": 20
        }
      ]
    },
    {
      "cell_type": "markdown",
      "metadata": {
        "id": "qihCXFxcqw6C",
        "colab_type": "text"
      },
      "source": [
        "Alternate way to specify higher dimensional arrays"
      ]
    },
    {
      "cell_type": "code",
      "metadata": {
        "id": "pOBdF_tTqviJ",
        "colab_type": "code",
        "colab": {
          "base_uri": "https://localhost:8080/",
          "height": 52
        },
        "outputId": "81709e10-6367-42d4-ae94-13aa56ce1d25"
      },
      "source": [
        "# this class may be removed in the future, use regular arrays instead is recommended\n",
        "np.matrix('1 2; 3 4')"
      ],
      "execution_count": null,
      "outputs": [
        {
          "output_type": "execute_result",
          "data": {
            "text/plain": [
              "matrix([[1, 2],\n",
              "        [3, 4]])"
            ]
          },
          "metadata": {
            "tags": []
          },
          "execution_count": 21
        }
      ]
    },
    {
      "cell_type": "markdown",
      "metadata": {
        "id": "LB3RLmFdX7vD",
        "colab_type": "text"
      },
      "source": [
        "Array with values between 0 and 1"
      ]
    },
    {
      "cell_type": "code",
      "metadata": {
        "id": "HaTPFxfY30Ah",
        "colab_type": "code",
        "colab": {
          "base_uri": "https://localhost:8080/",
          "height": 69
        },
        "outputId": "4c418b2d-707e-4622-aa71-526242bda7e7"
      },
      "source": [
        "np.random.random((3,4)) "
      ],
      "execution_count": null,
      "outputs": [
        {
          "output_type": "execute_result",
          "data": {
            "text/plain": [
              "array([[0.78527816, 0.26626244, 0.44124626, 0.2044536 ],\n",
              "       [0.15709905, 0.54677499, 0.32152959, 0.38514049],\n",
              "       [0.07647593, 0.13196991, 0.85764775, 0.30651571]])"
            ]
          },
          "metadata": {
            "tags": []
          },
          "execution_count": 22
        }
      ]
    },
    {
      "cell_type": "markdown",
      "metadata": {
        "id": "bQ80v76SYCou",
        "colab_type": "text"
      },
      "source": [
        "Array with normally distributed elements"
      ]
    },
    {
      "cell_type": "code",
      "metadata": {
        "id": "dKo8YPQhF3GO",
        "colab_type": "code",
        "colab": {
          "base_uri": "https://localhost:8080/",
          "height": 69
        },
        "outputId": "1e58e27f-066c-4970-f1dd-7f8730cd546a"
      },
      "source": [
        "np.random.randn(3,4)"
      ],
      "execution_count": null,
      "outputs": [
        {
          "output_type": "execute_result",
          "data": {
            "text/plain": [
              "array([[-0.05428256,  0.93639776,  0.04781657,  0.47662029],\n",
              "       [-0.33692672,  0.52766233,  2.00700589, -0.07938076],\n",
              "       [ 1.63001666, -0.09141578,  0.95035978,  0.24269847]])"
            ]
          },
          "metadata": {
            "tags": []
          },
          "execution_count": 23
        }
      ]
    },
    {
      "cell_type": "markdown",
      "metadata": {
        "id": "0Vdrl2yksN_x",
        "colab_type": "text"
      },
      "source": [
        "Example arrays : 1D array a and 2D array b\n"
      ]
    },
    {
      "cell_type": "code",
      "metadata": {
        "scrolled": true,
        "id": "92oz7rFe30Ak",
        "colab_type": "code",
        "colab": {
          "base_uri": "https://localhost:8080/",
          "height": 87
        },
        "outputId": "cfb08f51-ea6e-4800-d056-a665aa4d90ab"
      },
      "source": [
        "a = np.array([1,2,3, 4])\n",
        "b = np.random.randint(0,10, (3,3))\n",
        "\n",
        "print(\"a = \",a)\n",
        "print(\"b = \",b)"
      ],
      "execution_count": null,
      "outputs": [
        {
          "output_type": "stream",
          "text": [
            "a =  [1 2 3 4]\n",
            "b =  [[6 8 8]\n",
            " [4 5 2]\n",
            " [5 4 2]]\n"
          ],
          "name": "stdout"
        }
      ]
    },
    {
      "cell_type": "markdown",
      "metadata": {
        "id": "JklrMYYcsfBB",
        "colab_type": "text"
      },
      "source": [
        "Shape and dimension of arrays"
      ]
    },
    {
      "cell_type": "code",
      "metadata": {
        "id": "obBJnmLl30Ao",
        "colab_type": "code",
        "colab": {
          "base_uri": "https://localhost:8080/",
          "height": 87
        },
        "outputId": "68a40950-185f-4f67-adf1-e3e2e1261b91"
      },
      "source": [
        "print(\"Shape of a:\", np.shape(a))\n",
        "print(\"Shape of b:\", np.shape(b))\n",
        "\n",
        "print('Dimension of a:', np.ndim(a))\n",
        "print('Dimension of b:', np.ndim(b))"
      ],
      "execution_count": null,
      "outputs": [
        {
          "output_type": "stream",
          "text": [
            "Shape of a: (4,)\n",
            "Shape of b: (3, 3)\n",
            "Dimension of a: 1\n",
            "Dimension of b: 2\n"
          ],
          "name": "stdout"
        }
      ]
    },
    {
      "cell_type": "markdown",
      "metadata": {
        "id": "k9dE7QVQsjQ3",
        "colab_type": "text"
      },
      "source": [
        "Number of elements"
      ]
    },
    {
      "cell_type": "code",
      "metadata": {
        "id": "M5a5sEo530Ap",
        "colab_type": "code",
        "colab": {
          "base_uri": "https://localhost:8080/",
          "height": 52
        },
        "outputId": "999fd8e1-48e3-48f0-de17-a648080b2d62"
      },
      "source": [
        "print('Number of elements in a:', np.size(a))\n",
        "print('Number of elements in b:', np.size(b))"
      ],
      "execution_count": null,
      "outputs": [
        {
          "output_type": "stream",
          "text": [
            "Number of elements in a: 4\n",
            "Number of elements in b: 9\n"
          ],
          "name": "stdout"
        }
      ]
    },
    {
      "cell_type": "markdown",
      "metadata": {
        "id": "P9ktlJpS30As",
        "colab_type": "text"
      },
      "source": [
        "### [2] Indexing "
      ]
    },
    {
      "cell_type": "markdown",
      "metadata": {
        "id": "_tX1uDqgs7Yg",
        "colab_type": "text"
      },
      "source": [
        "First element of a"
      ]
    },
    {
      "cell_type": "code",
      "metadata": {
        "id": "0KiQc0GL30A0",
        "colab_type": "code",
        "colab": {
          "base_uri": "https://localhost:8080/",
          "height": 52
        },
        "outputId": "523c8fac-f8dc-425c-d5eb-100387b857c4"
      },
      "source": [
        "print(a[0])\n",
        "print(a[-4])"
      ],
      "execution_count": null,
      "outputs": [
        {
          "output_type": "stream",
          "text": [
            "1\n",
            "1\n"
          ],
          "name": "stdout"
        }
      ]
    },
    {
      "cell_type": "markdown",
      "metadata": {
        "id": "aArcxZxus8_W",
        "colab_type": "text"
      },
      "source": [
        "Last element of a"
      ]
    },
    {
      "cell_type": "code",
      "metadata": {
        "id": "d-2JMaSG30A4",
        "colab_type": "code",
        "colab": {
          "base_uri": "https://localhost:8080/",
          "height": 52
        },
        "outputId": "83045ff8-8a5a-47b5-ca4a-35a40f293a3e"
      },
      "source": [
        "print(a[-1])\n",
        "print(a[3])"
      ],
      "execution_count": null,
      "outputs": [
        {
          "output_type": "stream",
          "text": [
            "4\n",
            "4\n"
          ],
          "name": "stdout"
        }
      ]
    },
    {
      "cell_type": "markdown",
      "metadata": {
        "id": "yqId4f3stAO8",
        "colab_type": "text"
      },
      "source": [
        "First row of b"
      ]
    },
    {
      "cell_type": "code",
      "metadata": {
        "id": "5yLi8hNw30A6",
        "colab_type": "code",
        "colab": {
          "base_uri": "https://localhost:8080/",
          "height": 52
        },
        "outputId": "b40d167e-d047-464c-d787-dffc90f997ed"
      },
      "source": [
        "print(b[0]) \n",
        "print(b[0,:])"
      ],
      "execution_count": null,
      "outputs": [
        {
          "output_type": "stream",
          "text": [
            "[6 8 8]\n",
            "[6 8 8]\n"
          ],
          "name": "stdout"
        }
      ]
    },
    {
      "cell_type": "markdown",
      "metadata": {
        "id": "D47ZEqpGtET2",
        "colab_type": "text"
      },
      "source": [
        "Second column of b"
      ]
    },
    {
      "cell_type": "code",
      "metadata": {
        "id": "gJcTX8pC30A8",
        "colab_type": "code",
        "colab": {
          "base_uri": "https://localhost:8080/",
          "height": 35
        },
        "outputId": "2a96f192-d3bc-4cbb-a5ee-f62908735cbd"
      },
      "source": [
        "b[:,1]"
      ],
      "execution_count": null,
      "outputs": [
        {
          "output_type": "execute_result",
          "data": {
            "text/plain": [
              "array([8, 5, 4])"
            ]
          },
          "metadata": {
            "tags": []
          },
          "execution_count": 30
        }
      ]
    },
    {
      "cell_type": "markdown",
      "metadata": {
        "id": "qR-6Vo8ktI-Q",
        "colab_type": "text"
      },
      "source": [
        "Two new arrays"
      ]
    },
    {
      "cell_type": "code",
      "metadata": {
        "id": "XtMiu1wj30A-",
        "colab_type": "code",
        "colab": {
          "base_uri": "https://localhost:8080/",
          "height": 69
        },
        "outputId": "56aebd3a-e09a-4068-ec56-9a1218c301ff"
      },
      "source": [
        "x = np.array(['a', 'b', 'c'])\n",
        "y = np.array([['d','e','f'], \n",
        "              ['g', 'h', 'k']])\n",
        "\n",
        "print(x)\n",
        "print(y)"
      ],
      "execution_count": null,
      "outputs": [
        {
          "output_type": "stream",
          "text": [
            "['a' 'b' 'c']\n",
            "[['d' 'e' 'f']\n",
            " ['g' 'h' 'k']]\n"
          ],
          "name": "stdout"
        }
      ]
    },
    {
      "cell_type": "markdown",
      "metadata": {
        "id": "gBCL_UPytRmp",
        "colab_type": "text"
      },
      "source": [
        "Indexing 'c' from x"
      ]
    },
    {
      "cell_type": "code",
      "metadata": {
        "id": "9yRkolt330BI",
        "colab_type": "code",
        "colab": {
          "base_uri": "https://localhost:8080/",
          "height": 35
        },
        "outputId": "d7faac98-3f24-4c3b-c03c-616135035223"
      },
      "source": [
        "ind = [2]\n",
        "x[ind]"
      ],
      "execution_count": null,
      "outputs": [
        {
          "output_type": "execute_result",
          "data": {
            "text/plain": [
              "array(['c'], dtype='<U1')"
            ]
          },
          "metadata": {
            "tags": []
          },
          "execution_count": 32
        }
      ]
    },
    {
      "cell_type": "markdown",
      "metadata": {
        "id": "fT4h7tjftaG_",
        "colab_type": "text"
      },
      "source": [
        "Indexing 'e','h' from y"
      ]
    },
    {
      "cell_type": "code",
      "metadata": {
        "id": "DXG_rXbw30BL",
        "colab_type": "code",
        "colab": {
          "base_uri": "https://localhost:8080/",
          "height": 89
        },
        "outputId": "a7f8ba95-a586-4123-c743-60213d3d3c61"
      },
      "source": [
        "ind_2d = [[0,1],[1]]\n",
        "y[ind_2d]"
      ],
      "execution_count": null,
      "outputs": [
        {
          "output_type": "stream",
          "text": [
            "/usr/local/lib/python3.6/dist-packages/ipykernel_launcher.py:2: FutureWarning: Using a non-tuple sequence for multidimensional indexing is deprecated; use `arr[tuple(seq)]` instead of `arr[seq]`. In the future this will be interpreted as an array index, `arr[np.array(seq)]`, which will result either in an error or a different result.\n",
            "  \n"
          ],
          "name": "stderr"
        },
        {
          "output_type": "execute_result",
          "data": {
            "text/plain": [
              "array(['e', 'h'], dtype='<U1')"
            ]
          },
          "metadata": {
            "tags": []
          },
          "execution_count": 33
        }
      ]
    },
    {
      "cell_type": "markdown",
      "metadata": {
        "id": "texW-VHk30BN",
        "colab_type": "text"
      },
      "source": [
        "### [3] Slicing\n"
      ]
    },
    {
      "cell_type": "markdown",
      "metadata": {
        "id": "-3UY_gVVtmNU",
        "colab_type": "text"
      },
      "source": [
        "Example array of integers from 1 to 10"
      ]
    },
    {
      "cell_type": "code",
      "metadata": {
        "id": "YohttjXd30BO",
        "colab_type": "code",
        "colab": {
          "base_uri": "https://localhost:8080/",
          "height": 35
        },
        "outputId": "2e0a0c5b-9181-4533-d7dc-4c63ff7796f5"
      },
      "source": [
        "X = np.arange(1, 11, dtype=int)\n",
        "X"
      ],
      "execution_count": null,
      "outputs": [
        {
          "output_type": "execute_result",
          "data": {
            "text/plain": [
              "array([ 1,  2,  3,  4,  5,  6,  7,  8,  9, 10])"
            ]
          },
          "metadata": {
            "tags": []
          },
          "execution_count": 34
        }
      ]
    },
    {
      "cell_type": "markdown",
      "metadata": {
        "id": "MxGdY-zFto5A",
        "colab_type": "text"
      },
      "source": [
        "First two elements of X"
      ]
    },
    {
      "cell_type": "code",
      "metadata": {
        "id": "AVU-sx-w30BP",
        "colab_type": "code",
        "colab": {
          "base_uri": "https://localhost:8080/",
          "height": 35
        },
        "outputId": "a1bdf2fc-9974-4521-ff10-eb49c3461d68"
      },
      "source": [
        "X[:2]"
      ],
      "execution_count": null,
      "outputs": [
        {
          "output_type": "execute_result",
          "data": {
            "text/plain": [
              "array([1, 2])"
            ]
          },
          "metadata": {
            "tags": []
          },
          "execution_count": 35
        }
      ]
    },
    {
      "cell_type": "markdown",
      "metadata": {
        "id": "mow-9Ee3tsge",
        "colab_type": "text"
      },
      "source": [
        "Somewhere in the middle = 3, 4, 5"
      ]
    },
    {
      "cell_type": "code",
      "metadata": {
        "id": "XidRDF0E30BS",
        "colab_type": "code",
        "colab": {
          "base_uri": "https://localhost:8080/",
          "height": 35
        },
        "outputId": "d74c2bb0-e443-4ff5-8a0e-25a16244cfc2"
      },
      "source": [
        "X[2:5]"
      ],
      "execution_count": null,
      "outputs": [
        {
          "output_type": "execute_result",
          "data": {
            "text/plain": [
              "array([3, 4, 5])"
            ]
          },
          "metadata": {
            "tags": []
          },
          "execution_count": 36
        }
      ]
    },
    {
      "cell_type": "markdown",
      "metadata": {
        "id": "xDzI4-yHtztv",
        "colab_type": "text"
      },
      "source": [
        "Odd indices using skip"
      ]
    },
    {
      "cell_type": "code",
      "metadata": {
        "id": "MQOMFZ-E30BU",
        "colab_type": "code",
        "colab": {
          "base_uri": "https://localhost:8080/",
          "height": 35
        },
        "outputId": "e4451742-16ff-4925-83a9-de4c3cc5c45f"
      },
      "source": [
        "X[::2]"
      ],
      "execution_count": null,
      "outputs": [
        {
          "output_type": "execute_result",
          "data": {
            "text/plain": [
              "array([1, 3, 5, 7, 9])"
            ]
          },
          "metadata": {
            "tags": []
          },
          "execution_count": 37
        }
      ]
    },
    {
      "cell_type": "markdown",
      "metadata": {
        "id": "HAOvTXDmt9Zi",
        "colab_type": "text"
      },
      "source": [
        "Even indices using skip"
      ]
    },
    {
      "cell_type": "code",
      "metadata": {
        "id": "BClbH8_N30BV",
        "colab_type": "code",
        "colab": {
          "base_uri": "https://localhost:8080/",
          "height": 35
        },
        "outputId": "3999f224-271c-4fe2-ae66-b89c7ddcf566"
      },
      "source": [
        "X[1::2]"
      ],
      "execution_count": null,
      "outputs": [
        {
          "output_type": "execute_result",
          "data": {
            "text/plain": [
              "array([ 2,  4,  6,  8, 10])"
            ]
          },
          "metadata": {
            "tags": []
          },
          "execution_count": 38
        }
      ]
    },
    {
      "cell_type": "markdown",
      "metadata": {
        "id": "dzaD9fQzuBNK",
        "colab_type": "text"
      },
      "source": [
        "Example 2D array"
      ]
    },
    {
      "cell_type": "code",
      "metadata": {
        "id": "mbHDuPI030BX",
        "colab_type": "code",
        "colab": {
          "base_uri": "https://localhost:8080/",
          "height": 69
        },
        "outputId": "7ff58f60-7276-4b69-ee80-d304fcd0e9d7"
      },
      "source": [
        "Y= np.arange(1,10).reshape(3,3)\n",
        "Y"
      ],
      "execution_count": null,
      "outputs": [
        {
          "output_type": "execute_result",
          "data": {
            "text/plain": [
              "array([[1, 2, 3],\n",
              "       [4, 5, 6],\n",
              "       [7, 8, 9]])"
            ]
          },
          "metadata": {
            "tags": []
          },
          "execution_count": 39
        }
      ]
    },
    {
      "cell_type": "markdown",
      "metadata": {
        "id": "CcbH979wuEVF",
        "colab_type": "text"
      },
      "source": [
        "First and second row\n"
      ]
    },
    {
      "cell_type": "code",
      "metadata": {
        "id": "30LG8L4530BY",
        "colab_type": "code",
        "colab": {
          "base_uri": "https://localhost:8080/",
          "height": 52
        },
        "outputId": "5819a939-7004-42a4-be7f-d008bc20699d"
      },
      "source": [
        "Y[:2,:]"
      ],
      "execution_count": null,
      "outputs": [
        {
          "output_type": "execute_result",
          "data": {
            "text/plain": [
              "array([[1, 2, 3],\n",
              "       [4, 5, 6]])"
            ]
          },
          "metadata": {
            "tags": []
          },
          "execution_count": 40
        }
      ]
    },
    {
      "cell_type": "markdown",
      "metadata": {
        "id": "dvzDXeptuI0b",
        "colab_type": "text"
      },
      "source": [
        "Second and third column"
      ]
    },
    {
      "cell_type": "code",
      "metadata": {
        "id": "5-spSpsr30Ba",
        "colab_type": "code",
        "colab": {
          "base_uri": "https://localhost:8080/",
          "height": 69
        },
        "outputId": "1ae3596e-c04c-4fa3-8721-0dfedd21ea8e"
      },
      "source": [
        "Y[:, 1:]"
      ],
      "execution_count": null,
      "outputs": [
        {
          "output_type": "execute_result",
          "data": {
            "text/plain": [
              "array([[2, 3],\n",
              "       [5, 6],\n",
              "       [8, 9]])"
            ]
          },
          "metadata": {
            "tags": []
          },
          "execution_count": 41
        }
      ]
    },
    {
      "cell_type": "markdown",
      "metadata": {
        "id": "jbg72kXWuWGd",
        "colab_type": "text"
      },
      "source": [
        "Partial row : 5, 6\n"
      ]
    },
    {
      "cell_type": "code",
      "metadata": {
        "id": "A-Bo9Lam30Bb",
        "colab_type": "code",
        "colab": {
          "base_uri": "https://localhost:8080/",
          "height": 35
        },
        "outputId": "34e047f6-6e98-4377-ccd4-0e2e9bca9ee0"
      },
      "source": [
        "Y[1,1:]"
      ],
      "execution_count": null,
      "outputs": [
        {
          "output_type": "execute_result",
          "data": {
            "text/plain": [
              "array([5, 6])"
            ]
          },
          "metadata": {
            "tags": []
          },
          "execution_count": 42
        }
      ]
    },
    {
      "cell_type": "markdown",
      "metadata": {
        "id": "i8VuqiFj30Bd",
        "colab_type": "text"
      },
      "source": [
        "### [4] Universal Functions (ufuncs)\n",
        "**Fast element-wise operations on arrays**"
      ]
    },
    {
      "cell_type": "code",
      "metadata": {
        "id": "n5Zpl20m30Be",
        "colab_type": "code",
        "colab": {
          "base_uri": "https://localhost:8080/",
          "height": 35
        },
        "outputId": "42567572-0ce1-490a-9b76-e766638b262f"
      },
      "source": [
        "X"
      ],
      "execution_count": null,
      "outputs": [
        {
          "output_type": "execute_result",
          "data": {
            "text/plain": [
              "array([ 1,  2,  3,  4,  5,  6,  7,  8,  9, 10])"
            ]
          },
          "metadata": {
            "tags": []
          },
          "execution_count": 43
        }
      ]
    },
    {
      "cell_type": "markdown",
      "metadata": {
        "id": "YZ_OGaequnk7",
        "colab_type": "text"
      },
      "source": [
        "Maximum element"
      ]
    },
    {
      "cell_type": "code",
      "metadata": {
        "id": "c7qvoqAM30Bi",
        "colab_type": "code",
        "colab": {
          "base_uri": "https://localhost:8080/",
          "height": 35
        },
        "outputId": "8cf637cf-fdc8-4fbd-bcc0-a4c6c25450e4"
      },
      "source": [
        "np.max(X)"
      ],
      "execution_count": null,
      "outputs": [
        {
          "output_type": "execute_result",
          "data": {
            "text/plain": [
              "10"
            ]
          },
          "metadata": {
            "tags": []
          },
          "execution_count": 44
        }
      ]
    },
    {
      "cell_type": "markdown",
      "metadata": {
        "id": "Esmm1tAwupnG",
        "colab_type": "text"
      },
      "source": [
        "Mean of all elements"
      ]
    },
    {
      "cell_type": "code",
      "metadata": {
        "id": "GxkPQwBh30Bk",
        "colab_type": "code",
        "colab": {
          "base_uri": "https://localhost:8080/",
          "height": 35
        },
        "outputId": "16ba7406-9aa7-4dd0-f691-7118d9338148"
      },
      "source": [
        "np.mean(X)"
      ],
      "execution_count": null,
      "outputs": [
        {
          "output_type": "execute_result",
          "data": {
            "text/plain": [
              "5.5"
            ]
          },
          "metadata": {
            "tags": []
          },
          "execution_count": 45
        }
      ]
    },
    {
      "cell_type": "markdown",
      "metadata": {
        "id": "EFDNjCdUuuEd",
        "colab_type": "text"
      },
      "source": [
        "Raising each value to power of 4\n"
      ]
    },
    {
      "cell_type": "code",
      "metadata": {
        "id": "1_vAnx-t30Bl",
        "colab_type": "code",
        "colab": {
          "base_uri": "https://localhost:8080/",
          "height": 52
        },
        "outputId": "74464023-0246-4179-a35e-655d149156ce"
      },
      "source": [
        "np.power(X, 4)"
      ],
      "execution_count": null,
      "outputs": [
        {
          "output_type": "execute_result",
          "data": {
            "text/plain": [
              "array([    1,    16,    81,   256,   625,  1296,  2401,  4096,  6561,\n",
              "       10000])"
            ]
          },
          "metadata": {
            "tags": []
          },
          "execution_count": 46
        }
      ]
    },
    {
      "cell_type": "markdown",
      "metadata": {
        "id": "78xX7sYwuyQA",
        "colab_type": "text"
      },
      "source": [
        "Trigonometric functions"
      ]
    },
    {
      "cell_type": "code",
      "metadata": {
        "id": "3hI7QfFi30Bn",
        "colab_type": "code",
        "colab": {
          "base_uri": "https://localhost:8080/",
          "height": 87
        },
        "outputId": "bd247c97-0fc0-4700-f054-05632363c686"
      },
      "source": [
        "print(np.sin(X))\n",
        "print(np.tan(X))"
      ],
      "execution_count": null,
      "outputs": [
        {
          "output_type": "stream",
          "text": [
            "[ 0.84147098  0.90929743  0.14112001 -0.7568025  -0.95892427 -0.2794155\n",
            "  0.6569866   0.98935825  0.41211849 -0.54402111]\n",
            "[ 1.55740772 -2.18503986 -0.14254654  1.15782128 -3.38051501 -0.29100619\n",
            "  0.87144798 -6.79971146 -0.45231566  0.64836083]\n"
          ],
          "name": "stdout"
        }
      ]
    },
    {
      "cell_type": "markdown",
      "metadata": {
        "id": "nUD0Qrr9u16C",
        "colab_type": "text"
      },
      "source": [
        "Computing $(sin \\; x_{ij})^2 + (cos \\; x_{ij})^2$ element-wise"
      ]
    },
    {
      "cell_type": "code",
      "metadata": {
        "id": "xax0W2nm30Bq",
        "colab_type": "code",
        "colab": {
          "base_uri": "https://localhost:8080/",
          "height": 35
        },
        "outputId": "d64384e6-4f69-40af-88df-adbd9a2437f7"
      },
      "source": [
        "# x2 + y2 = 1\n",
        "np.square(np.sin(X)) + np.square(np.cos(X))"
      ],
      "execution_count": null,
      "outputs": [
        {
          "output_type": "execute_result",
          "data": {
            "text/plain": [
              "array([1., 1., 1., 1., 1., 1., 1., 1., 1., 1.])"
            ]
          },
          "metadata": {
            "tags": []
          },
          "execution_count": 48
        }
      ]
    },
    {
      "cell_type": "markdown",
      "metadata": {
        "id": "g-HHXNfHvG2U",
        "colab_type": "text"
      },
      "source": [
        "2D array"
      ]
    },
    {
      "cell_type": "code",
      "metadata": {
        "id": "vXPH4FQm30Bs",
        "colab_type": "code",
        "colab": {
          "base_uri": "https://localhost:8080/",
          "height": 69
        },
        "outputId": "43f62244-96cd-4d8a-92ee-aa9365e2889e"
      },
      "source": [
        "Y"
      ],
      "execution_count": null,
      "outputs": [
        {
          "output_type": "execute_result",
          "data": {
            "text/plain": [
              "array([[1, 2, 3],\n",
              "       [4, 5, 6],\n",
              "       [7, 8, 9]])"
            ]
          },
          "metadata": {
            "tags": []
          },
          "execution_count": 49
        }
      ]
    },
    {
      "cell_type": "markdown",
      "metadata": {
        "id": "NMJAcurrvJjw",
        "colab_type": "text"
      },
      "source": [
        "Element-wise multiplication"
      ]
    },
    {
      "cell_type": "code",
      "metadata": {
        "id": "MHn_A5aA30Bv",
        "colab_type": "code",
        "colab": {
          "base_uri": "https://localhost:8080/",
          "height": 69
        },
        "outputId": "7c35ce20-067c-4771-806d-c8823ad107bc"
      },
      "source": [
        "np.multiply(Y, 2)"
      ],
      "execution_count": null,
      "outputs": [
        {
          "output_type": "execute_result",
          "data": {
            "text/plain": [
              "array([[ 2,  4,  6],\n",
              "       [ 8, 10, 12],\n",
              "       [14, 16, 18]])"
            ]
          },
          "metadata": {
            "tags": []
          },
          "execution_count": 50
        }
      ]
    },
    {
      "cell_type": "markdown",
      "metadata": {
        "id": "5tiEaGDzvOFX",
        "colab_type": "text"
      },
      "source": [
        "Split Y into 3 subarrays"
      ]
    },
    {
      "cell_type": "code",
      "metadata": {
        "id": "dvlh8zz530Bx",
        "colab_type": "code",
        "colab": {
          "base_uri": "https://localhost:8080/",
          "height": 35
        },
        "outputId": "a4c28335-88f6-4e21-9c4c-eb4a5db785bb"
      },
      "source": [
        "np.split(Y, 3)"
      ],
      "execution_count": null,
      "outputs": [
        {
          "output_type": "execute_result",
          "data": {
            "text/plain": [
              "[array([[1, 2, 3]]), array([[4, 5, 6]]), array([[7, 8, 9]])]"
            ]
          },
          "metadata": {
            "tags": []
          },
          "execution_count": 51
        }
      ]
    },
    {
      "cell_type": "markdown",
      "metadata": {
        "id": "h8NcgJ8v30Bz",
        "colab_type": "text"
      },
      "source": [
        "### [5] Broadcasting"
      ]
    },
    {
      "cell_type": "markdown",
      "metadata": {
        "id": "e9K7DgOP30Bz",
        "colab_type": "text"
      },
      "source": [
        " Broadcasting is being able to use ufuncs and many other operations on different size of arrays"
      ]
    },
    {
      "cell_type": "code",
      "metadata": {
        "id": "F1TvYZLT30Bz",
        "colab_type": "code",
        "colab": {
          "base_uri": "https://localhost:8080/",
          "height": 35
        },
        "outputId": "3ee98bb5-0ad4-43d3-8f66-a41dae7e589d"
      },
      "source": [
        "X"
      ],
      "execution_count": null,
      "outputs": [
        {
          "output_type": "execute_result",
          "data": {
            "text/plain": [
              "array([ 1,  2,  3,  4,  5,  6,  7,  8,  9, 10])"
            ]
          },
          "metadata": {
            "tags": []
          },
          "execution_count": 52
        }
      ]
    },
    {
      "cell_type": "markdown",
      "metadata": {
        "id": "CBmSFhEMvYBM",
        "colab_type": "text"
      },
      "source": [
        "Add 5 to each element"
      ]
    },
    {
      "cell_type": "code",
      "metadata": {
        "id": "OybWQPju30B1",
        "colab_type": "code",
        "colab": {
          "base_uri": "https://localhost:8080/",
          "height": 35
        },
        "outputId": "fbf24bc7-4a4b-4be0-e563-b7fbe12d78a0"
      },
      "source": [
        "X + 5"
      ],
      "execution_count": null,
      "outputs": [
        {
          "output_type": "execute_result",
          "data": {
            "text/plain": [
              "array([ 6,  7,  8,  9, 10, 11, 12, 13, 14, 15])"
            ]
          },
          "metadata": {
            "tags": []
          },
          "execution_count": 53
        }
      ]
    },
    {
      "cell_type": "code",
      "metadata": {
        "id": "lCqg_Wm330B3",
        "colab_type": "code",
        "colab": {
          "base_uri": "https://localhost:8080/",
          "height": 35
        },
        "outputId": "b65e905b-76b9-4e25-c82a-6bb35f409619"
      },
      "source": [
        "np.add(X, 5)"
      ],
      "execution_count": null,
      "outputs": [
        {
          "output_type": "execute_result",
          "data": {
            "text/plain": [
              "array([ 6,  7,  8,  9, 10, 11, 12, 13, 14, 15])"
            ]
          },
          "metadata": {
            "tags": []
          },
          "execution_count": 54
        }
      ]
    },
    {
      "cell_type": "markdown",
      "metadata": {
        "id": "GKeed4JKvc1y",
        "colab_type": "text"
      },
      "source": [
        "Array Z with newaxis"
      ]
    },
    {
      "cell_type": "code",
      "metadata": {
        "id": "pHCIA7ye30B6",
        "colab_type": "code",
        "colab": {
          "base_uri": "https://localhost:8080/",
          "height": 69
        },
        "outputId": "7ff5f9bb-d334-4f8c-84c2-51b698a44d2a"
      },
      "source": [
        "Z = np.arange(3)[:, np.newaxis]\n",
        "Z"
      ],
      "execution_count": null,
      "outputs": [
        {
          "output_type": "execute_result",
          "data": {
            "text/plain": [
              "array([[0],\n",
              "       [1],\n",
              "       [2]])"
            ]
          },
          "metadata": {
            "tags": []
          },
          "execution_count": 55
        }
      ]
    },
    {
      "cell_type": "code",
      "metadata": {
        "id": "-AbjREHUvkLD",
        "colab_type": "code",
        "colab": {
          "base_uri": "https://localhost:8080/",
          "height": 35
        },
        "outputId": "316acc65-f05c-4dd1-cd75-c3c14ec73ce4"
      },
      "source": [
        "Z.shape"
      ],
      "execution_count": null,
      "outputs": [
        {
          "output_type": "execute_result",
          "data": {
            "text/plain": [
              "(3, 1)"
            ]
          },
          "metadata": {
            "tags": []
          },
          "execution_count": 56
        }
      ]
    },
    {
      "cell_type": "code",
      "metadata": {
        "id": "MSaoZMjIvug7",
        "colab_type": "code",
        "colab": {
          "base_uri": "https://localhost:8080/",
          "height": 35
        },
        "outputId": "1e4efc89-6340-4c41-dd6e-fffc576ae338"
      },
      "source": [
        "Y.shape"
      ],
      "execution_count": null,
      "outputs": [
        {
          "output_type": "execute_result",
          "data": {
            "text/plain": [
              "(3, 3)"
            ]
          },
          "metadata": {
            "tags": []
          },
          "execution_count": 57
        }
      ]
    },
    {
      "cell_type": "code",
      "metadata": {
        "id": "lHRMcBgc30B8",
        "colab_type": "code",
        "colab": {
          "base_uri": "https://localhost:8080/",
          "height": 69
        },
        "outputId": "888484a7-ae51-4eb8-c22c-c952deaf9446"
      },
      "source": [
        "np.multiply(Y, Z)"
      ],
      "execution_count": null,
      "outputs": [
        {
          "output_type": "execute_result",
          "data": {
            "text/plain": [
              "array([[ 0,  0,  0],\n",
              "       [ 4,  5,  6],\n",
              "       [14, 16, 18]])"
            ]
          },
          "metadata": {
            "tags": []
          },
          "execution_count": 58
        }
      ]
    },
    {
      "cell_type": "code",
      "metadata": {
        "id": "FxuA0fenF3Rc",
        "colab_type": "code",
        "colab": {
          "base_uri": "https://localhost:8080/",
          "height": 69
        },
        "outputId": "e0adfaed-bf61-4a9d-ca1d-e26c596290f2"
      },
      "source": [
        "np.matmul(Y, Z)"
      ],
      "execution_count": null,
      "outputs": [
        {
          "output_type": "execute_result",
          "data": {
            "text/plain": [
              "array([[ 8],\n",
              "       [17],\n",
              "       [26]])"
            ]
          },
          "metadata": {
            "tags": []
          },
          "execution_count": 59
        }
      ]
    },
    {
      "cell_type": "markdown",
      "metadata": {
        "id": "cdp7oTYT30B-",
        "colab_type": "text"
      },
      "source": [
        "### [6] Other Operations"
      ]
    },
    {
      "cell_type": "code",
      "metadata": {
        "id": "n6__1gGJ30B_",
        "colab_type": "code",
        "colab": {
          "base_uri": "https://localhost:8080/",
          "height": 35
        },
        "outputId": "64435f87-b862-4590-e438-9391bf2221e3"
      },
      "source": [
        "x = np.random.randint(1,5, 10)\n",
        "x"
      ],
      "execution_count": null,
      "outputs": [
        {
          "output_type": "execute_result",
          "data": {
            "text/plain": [
              "array([4, 3, 2, 3, 4, 1, 2, 2, 2, 3])"
            ]
          },
          "metadata": {
            "tags": []
          },
          "execution_count": 60
        }
      ]
    },
    {
      "cell_type": "code",
      "metadata": {
        "id": "2AhVk4Ru30CB",
        "colab_type": "code",
        "colab": {
          "base_uri": "https://localhost:8080/",
          "height": 69
        },
        "outputId": "0c25cd5c-2084-4fc6-c272-e69c7ebca24c"
      },
      "source": [
        "y = np.random.randint(1,5, (3,3))\n",
        "y"
      ],
      "execution_count": null,
      "outputs": [
        {
          "output_type": "execute_result",
          "data": {
            "text/plain": [
              "array([[4, 2, 1],\n",
              "       [1, 3, 1],\n",
              "       [2, 3, 3]])"
            ]
          },
          "metadata": {
            "tags": []
          },
          "execution_count": 61
        }
      ]
    },
    {
      "cell_type": "markdown",
      "metadata": {
        "id": "VvtDh1yLwKzg",
        "colab_type": "text"
      },
      "source": [
        "Sorting"
      ]
    },
    {
      "cell_type": "code",
      "metadata": {
        "id": "mom7_ymM30CD",
        "colab_type": "code",
        "colab": {
          "base_uri": "https://localhost:8080/",
          "height": 35
        },
        "outputId": "5dc4f7fc-872b-4cc1-cbff-c9b85f225078"
      },
      "source": [
        "np.sort(x)"
      ],
      "execution_count": null,
      "outputs": [
        {
          "output_type": "execute_result",
          "data": {
            "text/plain": [
              "array([1, 2, 2, 2, 2, 3, 3, 3, 4, 4])"
            ]
          },
          "metadata": {
            "tags": []
          },
          "execution_count": 62
        }
      ]
    },
    {
      "cell_type": "markdown",
      "metadata": {
        "id": "eGrKxoUFwMnP",
        "colab_type": "text"
      },
      "source": [
        "Sorting along rows"
      ]
    },
    {
      "cell_type": "code",
      "metadata": {
        "id": "PTtb3TYN30CF",
        "colab_type": "code",
        "colab": {
          "base_uri": "https://localhost:8080/",
          "height": 69
        },
        "outputId": "d445c1b2-3ef7-49d9-bf20-3edced78b1d7"
      },
      "source": [
        "np.sort(y, axis=0)"
      ],
      "execution_count": null,
      "outputs": [
        {
          "output_type": "execute_result",
          "data": {
            "text/plain": [
              "array([[1, 2, 1],\n",
              "       [2, 3, 1],\n",
              "       [4, 3, 3]])"
            ]
          },
          "metadata": {
            "tags": []
          },
          "execution_count": 63
        }
      ]
    },
    {
      "cell_type": "markdown",
      "metadata": {
        "id": "PvNTU6tOwVNR",
        "colab_type": "text"
      },
      "source": [
        "Sorting along columns"
      ]
    },
    {
      "cell_type": "code",
      "metadata": {
        "id": "c0xS9Sge30CH",
        "colab_type": "code",
        "colab": {
          "base_uri": "https://localhost:8080/",
          "height": 69
        },
        "outputId": "843f01cd-002a-4b1a-80cc-c615f1423c0b"
      },
      "source": [
        "np.sort(y, axis=1)"
      ],
      "execution_count": null,
      "outputs": [
        {
          "output_type": "execute_result",
          "data": {
            "text/plain": [
              "array([[1, 2, 4],\n",
              "       [1, 1, 3],\n",
              "       [2, 3, 3]])"
            ]
          },
          "metadata": {
            "tags": []
          },
          "execution_count": 64
        }
      ]
    },
    {
      "cell_type": "markdown",
      "metadata": {
        "id": "tLjHjmxIwYsD",
        "colab_type": "text"
      },
      "source": [
        "Conditions on arrays"
      ]
    },
    {
      "cell_type": "code",
      "metadata": {
        "id": "NCi1o1ey30CJ",
        "colab_type": "code",
        "colab": {
          "base_uri": "https://localhost:8080/",
          "height": 52
        },
        "outputId": "0138f1a2-34fe-45fb-9618-9cf0a5196fa3"
      },
      "source": [
        "# == , !=, < , >, >=, <= operations on arrays\n",
        "x > 3"
      ],
      "execution_count": null,
      "outputs": [
        {
          "output_type": "execute_result",
          "data": {
            "text/plain": [
              "array([ True, False, False, False,  True, False, False, False, False,\n",
              "       False])"
            ]
          },
          "metadata": {
            "tags": []
          },
          "execution_count": 65
        }
      ]
    },
    {
      "cell_type": "markdown",
      "metadata": {
        "id": "WyvfBEFHwe_b",
        "colab_type": "text"
      },
      "source": [
        "Array masking"
      ]
    },
    {
      "cell_type": "code",
      "metadata": {
        "id": "hEiZgr5-30CK",
        "colab_type": "code",
        "colab": {
          "base_uri": "https://localhost:8080/",
          "height": 35
        },
        "outputId": "b27c997f-c477-4cf4-d406-d6e9c7531459"
      },
      "source": [
        "# Create a new array with elements that satisfy the condition\n",
        "x[x>3]"
      ],
      "execution_count": null,
      "outputs": [
        {
          "output_type": "execute_result",
          "data": {
            "text/plain": [
              "array([4, 4])"
            ]
          },
          "metadata": {
            "tags": []
          },
          "execution_count": 66
        }
      ]
    },
    {
      "cell_type": "code",
      "metadata": {
        "id": "Rw-zn_Z230CM",
        "colab_type": "code",
        "colab": {
          "base_uri": "https://localhost:8080/",
          "height": 35
        },
        "outputId": "da0f2bc2-bd75-4c29-cecb-3b78369d14da"
      },
      "source": [
        "x[(x <= 3) & (x>1)]"
      ],
      "execution_count": null,
      "outputs": [
        {
          "output_type": "execute_result",
          "data": {
            "text/plain": [
              "array([3, 2, 3, 2, 2, 2, 3])"
            ]
          },
          "metadata": {
            "tags": []
          },
          "execution_count": 67
        }
      ]
    },
    {
      "cell_type": "markdown",
      "metadata": {
        "id": "UFKtWMd-woly",
        "colab_type": "text"
      },
      "source": [
        "## SCIPY"
      ]
    },
    {
      "cell_type": "markdown",
      "metadata": {
        "id": "gJB4IBaZwpjO",
        "colab_type": "text"
      },
      "source": [
        "### Installation"
      ]
    },
    {
      "cell_type": "code",
      "metadata": {
        "id": "D-kAkvk4wyu6",
        "colab_type": "code",
        "colab": {
          "base_uri": "https://localhost:8080/",
          "height": 0
        },
        "outputId": "289674f6-c769-47d3-cefa-efa9963befac"
      },
      "source": [
        "!pip install scipy"
      ],
      "execution_count": 34,
      "outputs": [
        {
          "output_type": "stream",
          "text": [
            "Requirement already satisfied: scipy in /usr/local/lib/python3.6/dist-packages (1.4.1)\n",
            "Requirement already satisfied: numpy>=1.13.3 in /usr/local/lib/python3.6/dist-packages (from scipy) (1.18.5)\n"
          ],
          "name": "stdout"
        }
      ]
    },
    {
      "cell_type": "markdown",
      "metadata": {
        "id": "gimvegoZwo_6",
        "colab_type": "text"
      },
      "source": [
        "### Import"
      ]
    },
    {
      "cell_type": "code",
      "metadata": {
        "id": "6ZPozo-Rw2ng",
        "colab_type": "code",
        "colab": {}
      },
      "source": [
        "from scipy import linalg\n",
        "from scipy import stats\n",
        "from scipy import optimize"
      ],
      "execution_count": 35,
      "outputs": []
    },
    {
      "cell_type": "markdown",
      "metadata": {
        "id": "HwzJDIXaxBqC",
        "colab_type": "text"
      },
      "source": [
        "Solving a system of linear equations"
      ]
    },
    {
      "cell_type": "code",
      "metadata": {
        "id": "eK0ID-KJxB8z",
        "colab_type": "code",
        "colab": {
          "base_uri": "https://localhost:8080/",
          "height": 35
        },
        "outputId": "ae72411c-0826-462f-c596-8ef0fd4e2090"
      },
      "source": [
        "a = np.array([[3, 2, 0], [1, -1, 0], [0, 5, 1]])\n",
        "b = np.array([2, 4, -1])\n",
        "\n",
        "#Pass the values to the solve function\n",
        "x = linalg.solve(a, b)\n",
        "\n",
        "print(x)"
      ],
      "execution_count": 36,
      "outputs": [
        {
          "output_type": "stream",
          "text": [
            "[ 2. -2.  9.]\n"
          ],
          "name": "stdout"
        }
      ]
    },
    {
      "cell_type": "markdown",
      "metadata": {
        "id": "-bvDJm9IxN4I",
        "colab_type": "text"
      },
      "source": [
        "Computing a matrix determinant"
      ]
    },
    {
      "cell_type": "code",
      "metadata": {
        "id": "ANYrI59axOEC",
        "colab_type": "code",
        "colab": {
          "base_uri": "https://localhost:8080/",
          "height": 35
        },
        "outputId": "9123fbc6-e7c8-4db0-88d3-cdb07ee6e6f8"
      },
      "source": [
        "A = np.array([[1,2],[3,4]])\n",
        "print(linalg.det(A))"
      ],
      "execution_count": 37,
      "outputs": [
        {
          "output_type": "stream",
          "text": [
            "-2.0\n"
          ],
          "name": "stdout"
        }
      ]
    },
    {
      "cell_type": "markdown",
      "metadata": {
        "id": "m37DOFRrxcCw",
        "colab_type": "text"
      },
      "source": [
        "Computing eigen values and eigen vectors"
      ]
    },
    {
      "cell_type": "code",
      "metadata": {
        "id": "6z1JOtIUxcSu",
        "colab_type": "code",
        "colab": {
          "base_uri": "https://localhost:8080/",
          "height": 69
        },
        "outputId": "e1a7d54b-52c0-43fe-8f92-1f3442e92b49"
      },
      "source": [
        "A = np.array([[1,2],[3,4]])\n",
        "\n",
        "e_vals, e_vectors = linalg.eig(A)\n",
        "\n",
        "\n",
        "print(\"eigen vals = \",e_vals)\n",
        "print(\"eigen vector = \",e_vectors)"
      ],
      "execution_count": 38,
      "outputs": [
        {
          "output_type": "stream",
          "text": [
            "eigen vals =  [-0.37228132+0.j  5.37228132+0.j]\n",
            "eigen vector =  [[-0.82456484 -0.41597356]\n",
            " [ 0.56576746 -0.90937671]]\n"
          ],
          "name": "stdout"
        }
      ]
    },
    {
      "cell_type": "markdown",
      "metadata": {
        "id": "V82j5bqBx-SL",
        "colab_type": "text"
      },
      "source": [
        "Computing the root of an equation"
      ]
    },
    {
      "cell_type": "code",
      "metadata": {
        "id": "a37V46xvx-gO",
        "colab_type": "code",
        "colab": {
          "base_uri": "https://localhost:8080/",
          "height": 173
        },
        "outputId": "058cecef-8edb-4dff-827f-ca4104bd7374"
      },
      "source": [
        "from scipy.optimize import root\n",
        "\n",
        "def equation(x):\n",
        "   return x*2 + 2 * np.cos(x)\n",
        "\n",
        "print(root(equation, 0.3))\n"
      ],
      "execution_count": 39,
      "outputs": [
        {
          "output_type": "stream",
          "text": [
            "    fjac: array([[-1.]])\n",
            "     fun: array([2.22044605e-16])\n",
            " message: 'The solution converged.'\n",
            "    nfev: 10\n",
            "     qtf: array([-2.77688983e-12])\n",
            "       r: array([-3.3472241])\n",
            "  status: 1\n",
            " success: True\n",
            "       x: array([-0.73908513])\n"
          ],
          "name": "stdout"
        }
      ]
    },
    {
      "cell_type": "markdown",
      "metadata": {
        "id": "GO5sNqTGyVfu",
        "colab_type": "text"
      },
      "source": [
        "Statistical distributions"
      ]
    },
    {
      "cell_type": "code",
      "metadata": {
        "id": "c2mF3R4_ybRE",
        "colab_type": "code",
        "colab": {
          "base_uri": "https://localhost:8080/",
          "height": 35
        },
        "outputId": "9e72b936-0b78-4143-ba99-b5da39ab2917"
      },
      "source": [
        "from scipy.stats import norm\n",
        "\n",
        "print(norm.rvs(size = 5))"
      ],
      "execution_count": 40,
      "outputs": [
        {
          "output_type": "stream",
          "text": [
            "[-0.55187394  1.56811705  1.39345608 -0.14702387 -2.67902519]\n"
          ],
          "name": "stdout"
        }
      ]
    },
    {
      "cell_type": "code",
      "metadata": {
        "id": "TkmnoJnuyUVk",
        "colab_type": "code",
        "colab": {
          "base_uri": "https://localhost:8080/",
          "height": 35
        },
        "outputId": "f87d50bd-d41f-4d30-d0c4-b24ed6a8ed9c"
      },
      "source": [
        "from scipy.stats import uniform\n",
        "\n",
        "print(uniform.cdf([0, 1, 2, 3, 4, 5], loc = 1, scale = 4))"
      ],
      "execution_count": 41,
      "outputs": [
        {
          "output_type": "stream",
          "text": [
            "[0.   0.   0.25 0.5  0.75 1.  ]\n"
          ],
          "name": "stdout"
        }
      ]
    },
    {
      "cell_type": "markdown",
      "metadata": {
        "id": "YKwUBcWdyUnB",
        "colab_type": "text"
      },
      "source": [
        "Some special functions like : gamma function"
      ]
    },
    {
      "cell_type": "code",
      "metadata": {
        "id": "CCsvKTi-y3b8",
        "colab_type": "code",
        "colab": {
          "base_uri": "https://localhost:8080/",
          "height": 35
        },
        "outputId": "7acbe17f-516c-4d17-ab9e-b2154a56f2d4"
      },
      "source": [
        "from scipy.special import gamma\n",
        "\n",
        "print(gamma([0, 0.5, 1, 5]))"
      ],
      "execution_count": 42,
      "outputs": [
        {
          "output_type": "stream",
          "text": [
            "[        inf  1.77245385  1.         24.        ]\n"
          ],
          "name": "stdout"
        }
      ]
    },
    {
      "cell_type": "markdown",
      "metadata": {
        "id": "E9LHp9UECBLD",
        "colab_type": "text"
      },
      "source": [
        "## MATPLOTLIB"
      ]
    },
    {
      "cell_type": "markdown",
      "metadata": {
        "id": "rkaj4RksCIT8",
        "colab_type": "text"
      },
      "source": [
        "### Installation"
      ]
    },
    {
      "cell_type": "code",
      "metadata": {
        "id": "qAuH1YS3CB1v",
        "colab_type": "code",
        "colab": {
          "base_uri": "https://localhost:8080/",
          "height": 139
        },
        "outputId": "56d417eb-ad0f-4720-c224-cff4ca26a0e1"
      },
      "source": [
        "!pip install matplotlib"
      ],
      "execution_count": null,
      "outputs": [
        {
          "output_type": "stream",
          "text": [
            "Requirement already satisfied: matplotlib in /usr/local/lib/python3.6/dist-packages (3.2.2)\n",
            "Requirement already satisfied: kiwisolver>=1.0.1 in /usr/local/lib/python3.6/dist-packages (from matplotlib) (1.2.0)\n",
            "Requirement already satisfied: pyparsing!=2.0.4,!=2.1.2,!=2.1.6,>=2.0.1 in /usr/local/lib/python3.6/dist-packages (from matplotlib) (2.4.7)\n",
            "Requirement already satisfied: cycler>=0.10 in /usr/local/lib/python3.6/dist-packages (from matplotlib) (0.10.0)\n",
            "Requirement already satisfied: python-dateutil>=2.1 in /usr/local/lib/python3.6/dist-packages (from matplotlib) (2.8.1)\n",
            "Requirement already satisfied: numpy>=1.11 in /usr/local/lib/python3.6/dist-packages (from matplotlib) (1.18.5)\n",
            "Requirement already satisfied: six in /usr/local/lib/python3.6/dist-packages (from cycler>=0.10->matplotlib) (1.15.0)\n"
          ],
          "name": "stdout"
        }
      ]
    },
    {
      "cell_type": "markdown",
      "metadata": {
        "id": "edMrTIiNCdOx",
        "colab_type": "text"
      },
      "source": [
        "### Import"
      ]
    },
    {
      "cell_type": "code",
      "metadata": {
        "id": "xbx2UfKYCdcP",
        "colab_type": "code",
        "colab": {}
      },
      "source": [
        "import matplotlib.pyplot as plt"
      ],
      "execution_count": 33,
      "outputs": []
    },
    {
      "cell_type": "markdown",
      "metadata": {
        "colab_type": "text",
        "id": "WALI8x49GUpe"
      },
      "source": [
        "### [1] Line Plots"
      ]
    },
    {
      "cell_type": "code",
      "metadata": {
        "id": "k6dVf2brBHdX",
        "colab_type": "code",
        "colab": {
          "base_uri": "https://localhost:8080/",
          "height": 265
        },
        "outputId": "c994a2f8-6390-47b7-9fb5-94c5b3597798"
      },
      "source": [
        "x = np.linspace(0,10)\n",
        "plt.plot(x)\n",
        "plt.show()"
      ],
      "execution_count": null,
      "outputs": [
        {
          "output_type": "display_data",
          "data": {
            "image/png": "[encoded data removed]",
            "text/plain": [
              "<Figure size 432x288 with 1 Axes>"
            ]
          },
          "metadata": {
            "tags": [],
            "needs_background": "light"
          }
        }
      ]
    },
    {
      "cell_type": "code",
      "metadata": {
        "id": "YPqysZYJAs2C",
        "colab_type": "code",
        "colab": {
          "base_uri": "https://localhost:8080/",
          "height": 265
        },
        "outputId": "d3e95645-ca61-4bbe-ccaa-fbac57f235db"
      },
      "source": [
        "x = np.linspace(0,10)\n",
        "y = np.exp(x)\n",
        "plt.plot(x,y)\n",
        "plt.show()"
      ],
      "execution_count": null,
      "outputs": [
        {
          "output_type": "display_data",
          "data": {
            "image/png": "[encoded data removed]",
            "text/plain": [
              "<Figure size 432x288 with 1 Axes>"
            ]
          },
          "metadata": {
            "tags": [],
            "needs_background": "light"
          }
        }
      ]
    },
    {
      "cell_type": "code",
      "metadata": {
        "colab_type": "code",
        "id": "08RTGn_xE3MP",
        "colab": {
          "base_uri": "https://localhost:8080/",
          "height": 295
        },
        "outputId": "107c27c6-ed42-4ffb-f915-1d544d15fb02"
      },
      "source": [
        "x  = [1, 2, 3, 4, 5, 6, 7, 8, 9]\n",
        "y1 = [1, 3, 5, 3, 1, 3, 5, 3, 1]\n",
        "y2 = [2, 4, 6, 4, 2, 4, 6, 4, 2]\n",
        "plt.plot(x, y1, label=\"line L\")\n",
        "plt.plot(x, y2, label=\"line H\")\n",
        "plt.plot()\n",
        "\n",
        "plt.xlabel(\"x axis\")\n",
        "plt.ylabel(\"y axis\")\n",
        "plt.title(\"Line Graph Example\")\n",
        "plt.legend()\n",
        "plt.show()"
      ],
      "execution_count": null,
      "outputs": [
        {
          "output_type": "display_data",
          "data": {
            "image/png": "[encoded data removed]",
            "text/plain": [
              "<Figure size 432x288 with 1 Axes>"
            ]
          },
          "metadata": {
            "tags": [],
            "needs_background": "light"
          }
        }
      ]
    },
    {
      "cell_type": "markdown",
      "metadata": {
        "colab_type": "text",
        "id": "sIZLTZ0pdo0Z"
      },
      "source": [
        "### [2] Bar Plots"
      ]
    },
    {
      "cell_type": "code",
      "metadata": {
        "colab_type": "code",
        "id": "bZv4MenQpYOF",
        "colab": {
          "base_uri": "https://localhost:8080/",
          "height": 295
        },
        "outputId": "2aa098a4-75d3-4dd1-fe6e-77a7ae4cb63d"
      },
      "source": [
        "# Look at index 4 and 6, which demonstrate overlapping cases.\n",
        "x1 = [1, 3, 4, 5, 6, 7, 9]\n",
        "y1 = [4, 7, 2, 4, 7, 8, 3]\n",
        "\n",
        "x2 = [2, 4, 6, 8, 10]\n",
        "y2 = [5, 6, 2, 6, 2]\n",
        "\n",
        "# Colors: https://matplotlib.org/api/colors_api.html\n",
        "\n",
        "plt.bar(x1, y1, label=\"Blue Bar\", color='b')\n",
        "plt.bar(x2, y2, label=\"Green Bar\", color='g')\n",
        "plt.plot()\n",
        "\n",
        "plt.xlabel(\"bar number\")\n",
        "plt.ylabel(\"bar height\")\n",
        "plt.title(\"Bar Chart Example\")\n",
        "plt.legend()\n",
        "plt.show()"
      ],
      "execution_count": null,
      "outputs": [
        {
          "output_type": "display_data",
          "data": {
            "image/png": "[encoded data removed]",
            "text/plain": [
              "<Figure size 432x288 with 1 Axes>"
            ]
          },
          "metadata": {
            "tags": [],
            "needs_background": "light"
          }
        }
      ]
    },
    {
      "cell_type": "markdown",
      "metadata": {
        "colab_type": "text",
        "id": "YQO2Lw8Xdu7x"
      },
      "source": [
        "### [3] Histograms"
      ]
    },
    {
      "cell_type": "code",
      "metadata": {
        "cellView": "both",
        "colab_type": "code",
        "id": "SZ-DMbnPMbMY",
        "colab": {
          "base_uri": "https://localhost:8080/",
          "height": 809
        },
        "outputId": "133b87ff-beb5-4575-b7b8-7c18b4451a9a"
      },
      "source": [
        "# Use numpy to generate a bunch of random data in a bell curve around 5.\n",
        "n = 5 + np.random.randn(1000)\n",
        "\n",
        "m = [m for m in range(len(n))]\n",
        "plt.bar(m, n)\n",
        "plt.title(\"Raw Data\")\n",
        "plt.show()\n",
        "\n",
        "plt.hist(n, bins=20)\n",
        "plt.title(\"Histogram\")\n",
        "plt.show()\n",
        "\n",
        "plt.hist(n, cumulative=True, bins=20)\n",
        "plt.title(\"Cumulative Histogram\")\n",
        "plt.show()"
      ],
      "execution_count": null,
      "outputs": [
        {
          "output_type": "display_data",
          "data": {
            "image/png": "[encoded data removed]",
            "text/plain": [
              "<Figure size 432x288 with 1 Axes>"
            ]
          },
          "metadata": {
            "tags": [],
            "needs_background": "light"
          }
        },
        {
          "output_type": "display_data",
          "data": {
            "image/png": "[encoded data removed]",
            "text/plain": [
              "<Figure size 432x288 with 1 Axes>"
            ]
          },
          "metadata": {
            "tags": [],
            "needs_background": "light"
          }
        },
        {
          "output_type": "display_data",
          "data": {
            "image/png": "[encoded data removed]",
            "text/plain": [
              "<Figure size 432x288 with 1 Axes>"
            ]
          },
          "metadata": {
            "tags": [],
            "needs_background": "light"
          }
        }
      ]
    },
    {
      "cell_type": "markdown",
      "metadata": {
        "colab_type": "text",
        "id": "9-CelVUmdz8r"
      },
      "source": [
        "### [4] Scatter Plots"
      ]
    },
    {
      "cell_type": "code",
      "metadata": {
        "colab_type": "code",
        "id": "79C7jc9mv-Ji",
        "colab": {
          "base_uri": "https://localhost:8080/",
          "height": 281
        },
        "outputId": "c1d95363-6073-4412-da23-5884b37ce126"
      },
      "source": [
        "x1 = [2, 3, 4]\n",
        "y1 = [5, 5, 5]\n",
        "\n",
        "x2 = [1, 2, 3, 4, 5]\n",
        "y2 = [2, 3, 2, 3, 4]\n",
        "y3 = [6, 8, 7, 8, 7]\n",
        "\n",
        "# Markers: https://matplotlib.org/api/markers_api.html\n",
        "\n",
        "plt.scatter(x1, y1)\n",
        "plt.scatter(x2, y2, marker='v', color='r')\n",
        "plt.scatter(x2, y3, marker='^', color='m')\n",
        "plt.title('Scatter Plot Example')\n",
        "plt.show()"
      ],
      "execution_count": null,
      "outputs": [
        {
          "output_type": "display_data",
          "data": {
            "image/png": "[encoded data removed]",
            "text/plain": [
              "<Figure size 432x288 with 1 Axes>"
            ]
          },
          "metadata": {
            "tags": [],
            "needs_background": "light"
          }
        }
      ]
    },
    {
      "cell_type": "markdown",
      "metadata": {
        "colab_type": "text",
        "id": "nlk-Sk0Nd82p"
      },
      "source": [
        "### [5] Stack Plots"
      ]
    },
    {
      "cell_type": "code",
      "metadata": {
        "colab_type": "code",
        "id": "5sxEM0pJzpgr",
        "colab": {
          "base_uri": "https://localhost:8080/",
          "height": 281
        },
        "outputId": "e5e3700c-af22-40ef-bcd3-cbf4ac425dff"
      },
      "source": [
        "idxes = [ 1,  2,  3,  4,  5,  6,  7,  8,  9]\n",
        "arr1  = [23, 40, 28, 43,  8, 44, 43, 18, 17]\n",
        "arr2  = [17, 30, 22, 14, 17, 17, 29, 22, 30]\n",
        "arr3  = [15, 31, 18, 22, 18, 19, 13, 32, 39]\n",
        "\n",
        "# Adding legend for stack plots is tricky.\n",
        "plt.plot([], [], color='r', label = 'D 1')\n",
        "plt.plot([], [], color='g', label = 'D 2')\n",
        "plt.plot([], [], color='b', label = 'D 3')\n",
        "\n",
        "plt.stackplot(idxes, arr1, arr2, arr3, colors= ['r', 'g', 'b'])\n",
        "plt.title('Stack Plot Example')\n",
        "plt.legend()\n",
        "plt.show()"
      ],
      "execution_count": null,
      "outputs": [
        {
          "output_type": "display_data",
          "data": {
            "image/png": "[encoded data removed]",
            "text/plain": [
              "<Figure size 432x288 with 1 Axes>"
            ]
          },
          "metadata": {
            "tags": [],
            "needs_background": "light"
          }
        }
      ]
    },
    {
      "cell_type": "markdown",
      "metadata": {
        "colab_type": "text",
        "id": "C0LOohpqeCjx"
      },
      "source": [
        "### [6] Pie Charts"
      ]
    },
    {
      "cell_type": "code",
      "metadata": {
        "colab_type": "code",
        "id": "ZdEG-d4g4U6v",
        "colab": {
          "base_uri": "https://localhost:8080/",
          "height": 264
        },
        "outputId": "4d95ce96-9025-4f4b-8a6a-63de1d32f6ae"
      },
      "source": [
        "import matplotlib.pyplot as plt\n",
        "\n",
        "labels = 'S1', 'S2', 'S3'\n",
        "sections = [56, 66, 24]\n",
        "colors = ['c', 'g', 'y']\n",
        "\n",
        "plt.pie(sections, labels=labels, colors=colors,\n",
        "        startangle=90,\n",
        "        explode = (0, 0.1, 0),\n",
        "        autopct = '%1.2f%%')\n",
        "\n",
        "plt.axis('equal') # Try commenting this out.\n",
        "plt.title('Pie Chart Example')\n",
        "plt.show()"
      ],
      "execution_count": null,
      "outputs": [
        {
          "output_type": "display_data",
          "data": {
            "image/png": "[encoded data removed]",
            "text/plain": [
              "<Figure size 432x288 with 1 Axes>"
            ]
          },
          "metadata": {
            "tags": []
          }
        }
      ]
    },
    {
      "cell_type": "markdown",
      "metadata": {
        "colab_type": "text",
        "id": "sX97x87MTyIf"
      },
      "source": [
        "### [7] fill_between and alpha"
      ]
    },
    {
      "cell_type": "code",
      "metadata": {
        "colab_type": "code",
        "id": "BCUl8mTMT4sN",
        "colab": {
          "base_uri": "https://localhost:8080/",
          "height": 281
        },
        "outputId": "3b0140e9-b709-44f5-fe66-83b188a80831"
      },
      "source": [
        "import matplotlib.pyplot as plt\n",
        "import numpy as np\n",
        "\n",
        "ys = 200 + np.random.randn(100)\n",
        "x = [x for x in range(len(ys))]\n",
        "\n",
        "plt.plot(x, ys, '-')\n",
        "plt.fill_between(x, ys, 195, where=(ys > 195), facecolor='g', alpha=0.6)\n",
        "\n",
        "plt.title(\"Fills and Alpha Example\")\n",
        "plt.show()"
      ],
      "execution_count": null,
      "outputs": [
        {
          "output_type": "display_data",
          "data": {
            "image/png": "[encoded data removed]",
            "text/plain": [
              "<Figure size 432x288 with 1 Axes>"
            ]
          },
          "metadata": {
            "tags": [],
            "needs_background": "light"
          }
        }
      ]
    },
    {
      "cell_type": "markdown",
      "metadata": {
        "colab_type": "text",
        "id": "jONspxyzeT4Y"
      },
      "source": [
        "### [8] Subplotting "
      ]
    },
    {
      "cell_type": "markdown",
      "metadata": {
        "id": "ycBkQxArofbA",
        "colab_type": "text"
      },
      "source": [
        "Using subplots"
      ]
    },
    {
      "cell_type": "code",
      "metadata": {
        "id": "y30-vx8roAf4",
        "colab_type": "code",
        "colab": {
          "base_uri": "https://localhost:8080/",
          "height": 266
        },
        "outputId": "78aa8113-f7e8-4f65-afca-aa23dad092da"
      },
      "source": [
        "fig, ax = plt.subplots(2, 2)\n",
        "\n",
        "ax[0, 0].plot(np.random.random(10), color = 'r') #row=0, col=0\n",
        "ax[1, 0].plot(np.random.random(10), color = 'b') #row=1, col=0\n",
        "ax[0, 1].plot(np.random.random(10), color = 'g') #row=0, col=1\n",
        "ax[1, 1].plot(np.random.random(10), color = 'k') #row=1, col=1\n",
        "plt.show()"
      ],
      "execution_count": null,
      "outputs": [
        {
          "output_type": "display_data",
          "data": {
            "image/png": "[encoded data removed]",
            "text/plain": [
              "<Figure size 432x288 with 4 Axes>"
            ]
          },
          "metadata": {
            "tags": [],
            "needs_background": "light"
          }
        }
      ]
    },
    {
      "cell_type": "markdown",
      "metadata": {
        "id": "p1V_slM8ohza",
        "colab_type": "text"
      },
      "source": [
        "Using figure"
      ]
    },
    {
      "cell_type": "code",
      "metadata": {
        "id": "dDAxtFqlnL2N",
        "colab_type": "code",
        "colab": {
          "base_uri": "https://localhost:8080/",
          "height": 278
        },
        "outputId": "ee6187d9-cf58-443a-9d2e-2425d2ab7b1d"
      },
      "source": [
        "fig = plt.figure()\n",
        "ax1 = fig.add_axes([0.1, 0.5, 0.8, 0.4], ylim=(-1.2, 1.2))\n",
        "ax2 = fig.add_axes([0.1, 0.1, 0.8, 0.4], ylim=(-1.2, 1.2))\n",
        "\n",
        "x = np.linspace(0, 10)\n",
        "ax1.plot(np.sin(x))\n",
        "ax2.plot(np.cos(x))\n",
        "\n",
        "plt.show()"
      ],
      "execution_count": null,
      "outputs": [
        {
          "output_type": "display_data",
          "data": {
            "image/png": "[encoded data removed]",
            "text/plain": [
              "<Figure size 432x288 with 2 Axes>"
            ]
          },
          "metadata": {
            "tags": [],
            "needs_background": "light"
          }
        }
      ]
    },
    {
      "cell_type": "code",
      "metadata": {
        "id": "rDWEcisFnMlN",
        "colab_type": "code",
        "colab": {
          "base_uri": "https://localhost:8080/",
          "height": 269
        },
        "outputId": "1d9e624c-6f96-4018-903d-349c27a12d43"
      },
      "source": [
        "fig = plt.figure()\n",
        "#fig.subplots_adjust(hspace=0.4, wspace=0.4)\n",
        "\n",
        "for i in range(1, 7):\n",
        "    plt.subplot(2, 3, i)\n",
        "    plt.text(0.5, 0.5, str((2, 3, i)),fontsize=18, ha='center')"
      ],
      "execution_count": null,
      "outputs": [
        {
          "output_type": "display_data",
          "data": {
            "image/png": "[encoded data removed]",
            "text/plain": [
              "<Figure size 432x288 with 6 Axes>"
            ]
          },
          "metadata": {
            "tags": [],
            "needs_background": "light"
          }
        }
      ]
    },
    {
      "cell_type": "markdown",
      "metadata": {
        "id": "ejOPyV6pom9s",
        "colab_type": "text"
      },
      "source": [
        "Using subplot2grid"
      ]
    },
    {
      "cell_type": "code",
      "metadata": {
        "colab_type": "code",
        "id": "JF-dVGj3ExQm",
        "colab": {
          "base_uri": "https://localhost:8080/",
          "height": 297
        },
        "outputId": "37ebde61-1700-4dc1-b64b-9e45525c3045"
      },
      "source": [
        "import matplotlib.pyplot as plt\n",
        "import numpy as np\n",
        "\n",
        "def random_plots():\n",
        "  xs = []\n",
        "  ys = []\n",
        "  \n",
        "  for i in range(20):\n",
        "    x = i\n",
        "    y = np.random.randint(10)\n",
        "    \n",
        "    xs.append(x)\n",
        "    ys.append(y)\n",
        "  \n",
        "  return xs, ys\n",
        "\n",
        "fig = plt.figure()\n",
        "ax1 = plt.subplot2grid((5, 2), (0, 0), rowspan=1, colspan=2)\n",
        "ax2 = plt.subplot2grid((5, 2), (1, 0), rowspan=3, colspan=2)\n",
        "ax3 = plt.subplot2grid((5, 2), (4, 0), rowspan=1, colspan=1)\n",
        "ax4 = plt.subplot2grid((5, 2), (4, 1), rowspan=1, colspan=1)\n",
        "\n",
        "x, y = random_plots()\n",
        "ax1.plot(x, y)\n",
        "\n",
        "x, y = random_plots()\n",
        "ax2.plot(x, y)\n",
        "\n",
        "x, y = random_plots()\n",
        "ax3.plot(x, y)\n",
        "\n",
        "x, y = random_plots()\n",
        "ax4.plot(x, y)\n",
        "\n",
        "plt.tight_layout()\n",
        "plt.show()"
      ],
      "execution_count": null,
      "outputs": [
        {
          "output_type": "display_data",
          "data": {
            "image/png": "[encoded data removed]",
            "text/plain": [
              "<Figure size 432x288 with 4 Axes>"
            ]
          },
          "metadata": {
            "tags": [],
            "needs_background": "light"
          }
        }
      ]
    },
    {
      "cell_type": "markdown",
      "metadata": {
        "id": "A_xnqKsS27Kx",
        "colab_type": "text"
      },
      "source": [
        "## EXERCISES"
      ]
    },
    {
      "cell_type": "markdown",
      "metadata": {
        "id": "-F1Nna0827rg",
        "colab_type": "text"
      },
      "source": [
        "#### 1. Generate a numpy array containing the first 50 natural numbers. Compute another array that is equivalent to the element-wise square root of the first array. \n",
        "\n",
        "\n",
        "> #### You should do this in two different ways: <br/>  (i) Using the math.sqrt() function inside a list comprehension computing explicitly for each element through a loop <br/> (ii) Using the numpy ufunc np.sqrt().   \n",
        "\n",
        "\n",
        "#### Use the python timeit function to compute and print the time taken for performing (i) and (ii). Note down the speedup/slowdown achieved in the case (ii)."
      ]
    },
    {
      "cell_type": "code",
      "metadata": {
        "id": "9pJdHTry28XE",
        "colab_type": "code",
        "colab": {
          "base_uri": "https://localhost:8080/",
          "height": 52
        },
        "outputId": "2c9d4ddc-f7fa-4be9-81f7-ff783fe30d45"
      },
      "source": [
        "import math\n",
        "import timeit\n",
        "arr = np.arange(1, 51)\n",
        "def way_i():\n",
        "  [math.sqrt(elem) for elem in arr]\n",
        "def way_ii():\n",
        "  np.sqrt(arr)\n",
        "print(timeit.timeit(way_i))\n",
        "print(timeit.timeit(way_ii))"
      ],
      "execution_count": null,
      "outputs": [
        {
          "output_type": "stream",
          "text": [
            "10.776397173000078\n",
            "1.2130788169997686\n"
          ],
          "name": "stdout"
        }
      ]
    },
    {
      "cell_type": "markdown",
      "metadata": {
        "id": "wUTSvnqf28p1",
        "colab_type": "text"
      },
      "source": [
        "#### 2. Create a 10 x 10 array with all elements as integers zero in just one line of code, replace each element on the 'border' of the array with an integer 100. Print the array to verify your result.\n",
        "\n"
      ]
    },
    {
      "cell_type": "code",
      "metadata": {
        "id": "BseRH1hd28-P",
        "colab_type": "code",
        "colab": {
          "base_uri": "https://localhost:8080/",
          "height": 191
        },
        "outputId": "4daeaa1f-487d-4d3a-f535-a94b7e3dff88"
      },
      "source": [
        "arr = np.zeros((10,10), dtype=np.int)\n",
        "# Slice all \n",
        "arr[:, [0, 9]] = 100\n",
        "arr[[0, 9], 1:9] = 100\n",
        "arr"
      ],
      "execution_count": null,
      "outputs": [
        {
          "output_type": "execute_result",
          "data": {
            "text/plain": [
              "array([[100, 100, 100, 100, 100, 100, 100, 100, 100, 100],\n",
              "       [100,   0,   0,   0,   0,   0,   0,   0,   0, 100],\n",
              "       [100,   0,   0,   0,   0,   0,   0,   0,   0, 100],\n",
              "       [100,   0,   0,   0,   0,   0,   0,   0,   0, 100],\n",
              "       [100,   0,   0,   0,   0,   0,   0,   0,   0, 100],\n",
              "       [100,   0,   0,   0,   0,   0,   0,   0,   0, 100],\n",
              "       [100,   0,   0,   0,   0,   0,   0,   0,   0, 100],\n",
              "       [100,   0,   0,   0,   0,   0,   0,   0,   0, 100],\n",
              "       [100,   0,   0,   0,   0,   0,   0,   0,   0, 100],\n",
              "       [100, 100, 100, 100, 100, 100, 100, 100, 100, 100]])"
            ]
          },
          "metadata": {
            "tags": []
          },
          "execution_count": 127
        }
      ]
    },
    {
      "cell_type": "markdown",
      "metadata": {
        "id": "6UxWQNHB29Jo",
        "colab_type": "text"
      },
      "source": [
        "####3. Create an 1D array of random numbers and produce the list of indices based on sorted ordering. "
      ]
    },
    {
      "cell_type": "code",
      "metadata": {
        "id": "FCp5Q96I29Uw",
        "colab_type": "code",
        "colab": {
          "base_uri": "https://localhost:8080/",
          "height": 52
        },
        "outputId": "b64b947e-eb51-4f8a-ba9b-ab25d6efcb58"
      },
      "source": [
        "arr = np.random.randint(100, size=20)\n",
        "print(arr)\n",
        "print(np.argsort(np.argsort(arr)))"
      ],
      "execution_count": null,
      "outputs": [
        {
          "output_type": "stream",
          "text": [
            "[54 48  3 41 93 15 66 99 72 61 19  5 23 98 10 25 32 66 43 86]\n",
            "[11 10  0  8 17  3 13 19 15 12  4  1  5 18  2  6  7 14  9 16]\n"
          ],
          "name": "stdout"
        }
      ]
    },
    {
      "cell_type": "markdown",
      "metadata": {
        "id": "nk_gDggP29ep",
        "colab_type": "text"
      },
      "source": [
        "#### 4. Create an array `big` with the first 64 multiples of 12.\n",
        "> **(i) Resize the array into a 3 dimensional array `tensor` of order 8 x 4 x 2**\n",
        "\n",
        "> **(ii) From `tensor` select the elements that are divisible by 3 and save them in `small_tensor`**\n",
        "\n",
        "> **(iii) Find the difference between the product of the elements of `small_tensor` and `big`**     \n",
        "\n"
      ]
    },
    {
      "cell_type": "code",
      "metadata": {
        "id": "AkngU8Jbzefe",
        "colab_type": "code",
        "colab": {
          "base_uri": "https://localhost:8080/",
          "height": 35
        },
        "outputId": "eec6d1bd-a99a-4099-aee0-7749175fe614"
      },
      "source": [
        "big = (np.arange(64) + 1) * 12\n",
        "# i\n",
        "tensor = big.reshape((8, 4 , 2))\n",
        "# ii\n",
        "little_tensor = tensor[tensor % 3 == 0]\n",
        "# iii\n",
        "print(little_tensor.prod(dtype=np.float64) - big.prod(dtype=np.float64))\n"
      ],
      "execution_count": 32,
      "outputs": [
        {
          "output_type": "stream",
          "text": [
            "0.0\n"
          ],
          "name": "stdout"
        }
      ]
    },
    {
      "cell_type": "markdown",
      "metadata": {
        "id": "P70DoeGr2-MA",
        "colab_type": "text"
      },
      "source": [
        "#### 5. The parametric function defining a limaçon is:\n",
        "\n",
        "> $$r = r_0 + cos \\;θ$$\n",
        "> $$x = r \\; cos \\;θ$$\n",
        "> $$y = r \\; sin \\;θ$$\n",
        "\n",
        "\n",
        "#### Plot the shape of the limaçon for $r_0 = 0.5$, $r_0 = 1.0$, and $r_0 = 1.5$. \n",
        "#### Ensure that you plot enough points that the curve is closed and appears smooth.Use a legend to identify which curve is which."
      ]
    },
    {
      "cell_type": "code",
      "metadata": {
        "id": "VXOcECIO2-n4",
        "colab_type": "code",
        "colab": {
          "base_uri": "https://localhost:8080/",
          "height": 265
        },
        "outputId": "56328ad3-04e1-420b-dbd9-1795d6443645"
      },
      "source": [
        "def f_x(teta, r_0):\n",
        "  return (np.cos(teta) + r_0) * np.cos(teta)\n",
        "\n",
        "def f_y(teta, r_0):\n",
        "  return (np.cos(teta) + r_0) * np.sin(teta)\n",
        "\n",
        "tetas = np.linspace(0, 2.0 * np.pi, num=100)\n",
        "# Create the points\n",
        "x1 = f_x(tetas, 0.5)\n",
        "x2 = f_x(tetas, 1.0)\n",
        "x3 = f_x(tetas, 1.5)\n",
        "y1 = f_y(tetas, 0.5)\n",
        "y2 = f_y(tetas, 1.0)\n",
        "y3 = f_y(tetas, 1.5)\n",
        "\n",
        "# Plot the functions\n",
        "plt.plot(x1, y1, label=\"r0=0.5\")\n",
        "plt.plot(x2, y2, label=\"r0=1.0\")\n",
        "plt.plot(x3, y3, label=\"r0=1.5\")\n",
        "plt.plot()\n",
        "plt.legend(loc=\"upper right\")\n",
        "plt.show()"
      ],
      "execution_count": 62,
      "outputs": [
        {
          "output_type": "display_data",
          "data": {
            "image/png": "[encoded data removed]",
            "text/plain": [
              "<Figure size 432x288 with 1 Axes>"
            ]
          },
          "metadata": {
            "tags": [],
            "needs_background": "light"
          }
        }
      ]
    },
    {
      "cell_type": "markdown",
      "metadata": {
        "id": "2I8ih_yZ2-2_",
        "colab_type": "text"
      },
      "source": [
        "#### 6. Create a random numpy integer array of dimension 5 x 10 x 20. <br/> Compute the mean of this array along each of the different axes. Sum the rows of the computed mean. Consider this result as a sequence and : <br/>  (i) Plot the 3 results in 3 different subplots stacked horizontally  <br/> (ii) Reshape the original array to an one-dimensional array and plot the values of the difference between the mean of this new array and the elements in sequential order. This subplot should be below the subplots in (i) and as wide as the first row (with all the three subplots)    \n",
        "\n"
      ]
    },
    {
      "cell_type": "code",
      "metadata": {
        "id": "lgRf4sIj2_Ze",
        "colab_type": "code",
        "colab": {
          "base_uri": "https://localhost:8080/",
          "height": 592
        },
        "outputId": "effbe405-f120-4dc4-9bfb-49ee63cf32d3"
      },
      "source": [
        "r_arr = np.random.randint(100, size=(5, 10, 20))\n",
        "# Mean values by axis\n",
        "y_mean = r_arr.mean(axis=0)\n",
        "x_mean = r_arr.mean(axis=1)\n",
        "z_mean = r_arr.mean(axis=2)\n",
        "\n",
        "fig = plt.figure(figsize=(20, 10))\n",
        "grid = plt.GridSpec(2, 3)\n",
        "\n",
        "grid1 = fig.add_subplot(grid[0, 0])\n",
        "grid2 = fig.add_subplot(grid[0, 1])\n",
        "grid3 = fig.add_subplot(grid[0, 2])\n",
        "grid4 = fig.add_subplot(grid[1, :])\n",
        "\n",
        "grid1.plot(np.sum(y_mean, axis=0))\n",
        "grid2.plot(np.sum(x_mean, axis=0))\n",
        "grid3.plot(np.sum(z_mean, axis=0))\n",
        "grid4.plot(r_arr.mean() - r_arr.flatten())\n",
        "\n",
        "fig.show()"
      ],
      "execution_count": 82,
      "outputs": [
        {
          "output_type": "display_data",
          "data": {
            "image/png": "[encoded data removed]",
            "text/plain": [
              "<Figure size 1440x720 with 4 Axes>"
            ]
          },
          "metadata": {
            "tags": [],
            "needs_background": "light"
          }
        }
      ]
    },
    {
      "cell_type": "markdown",
      "metadata": {
        "id": "FOwf22Gfy2U8",
        "colab_type": "text"
      },
      "source": [
        "### REFERENCES\n",
        "\n",
        "1.   Datacamp NumPy [cheatsheet](https://s3.amazonaws.com/assets.datacamp.com/blog_assets/Numpy_Python_Cheat_Sheet.pdf)\n",
        "2.   [numpy for MATLAB users](https://docs.scipy.org/doc/numpy/user/numpy-for-matlab-users.html)\n",
        "3.  Numpy [reference](https://docs.scipy.org/doc/numpy/reference/)\n",
        "4. SciPy [tutorial](https://docs.scipy.org/doc/scipy/reference/tutorial/index.html)\n",
        "5. Matplotlib [docs](https://matplotlib.org/3.1.1/api/index.html)\n",
        "6. Matplotlib [tutorial](https://matplotlib.org/tutorials/index.html)\n",
        "\n",
        "\n"
      ]
    },
    {
      "cell_type": "code",
      "metadata": {
        "id": "VDxsHWi7V4r6",
        "colab_type": "code",
        "colab": {}
      },
      "source": [
        ""
      ],
      "execution_count": null,
      "outputs": []
    }
  ]
}